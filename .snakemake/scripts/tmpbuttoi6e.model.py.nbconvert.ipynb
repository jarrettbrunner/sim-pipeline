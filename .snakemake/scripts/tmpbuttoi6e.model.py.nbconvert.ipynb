{
 "cells": [
  {
   "cell_type": "code",
   "execution_count": 1,
   "metadata": {
    "tags": [
     "snakemake-job-properties"
    ]
   },
   "outputs": [],
   "source": [
    "\n",
    "######## snakemake preamble start (automatically inserted, do not edit) ########\n",
    "import sys; sys.path.extend(['/Users/jarrettbrunner/miniconda3/lib/python3.6/site-packages', '/Users/jarrettbrunner/Desktop/sim-pipeline']); import pickle; snakemake = pickle.loads(b'\\x80\\x03csnakemake.script\\nSnakemake\\nq\\x00)\\x81q\\x01}q\\x02(X\\x05\\x00\\x00\\x00inputq\\x03csnakemake.io\\nInputFiles\\nq\\x04)\\x81q\\x05}q\\x06(X\\x06\\x00\\x00\\x00_namesq\\x07}q\\x08X\\x12\\x00\\x00\\x00_allowed_overridesq\\t]q\\n(X\\x05\\x00\\x00\\x00indexq\\x0bX\\x04\\x00\\x00\\x00sortq\\x0ceh\\x0bcfunctools\\npartial\\nq\\rcbuiltins\\ngetattr\\nq\\x0ecsnakemake.io\\nNamedlist\\nq\\x0fX\\x0f\\x00\\x00\\x00_used_attributeq\\x10\\x86q\\x11Rq\\x12\\x85q\\x13Rq\\x14(h\\x12)}q\\x15X\\x05\\x00\\x00\\x00_nameq\\x16h\\x0bsNtq\\x17bh\\x0ch\\rh\\x12\\x85q\\x18Rq\\x19(h\\x12)}q\\x1ah\\x16h\\x0csNtq\\x1bbubX\\x06\\x00\\x00\\x00outputq\\x1ccsnakemake.io\\nOutputFiles\\nq\\x1d)\\x81q\\x1eX\\x08\\x00\\x00\\x00test.txtq\\x1fa}q (h\\x07}q!h\\t]q\"(h\\x0bh\\x0ceh\\x0bh\\rh\\x12\\x85q#Rq$(h\\x12)}q%h\\x16h\\x0bsNtq&bh\\x0ch\\rh\\x12\\x85q\\'Rq((h\\x12)}q)h\\x16h\\x0csNtq*bubX\\x06\\x00\\x00\\x00paramsq+csnakemake.io\\nParams\\nq,)\\x81q-}q.(h\\x07}q/h\\t]q0(h\\x0bh\\x0ceh\\x0bh\\rh\\x12\\x85q1Rq2(h\\x12)}q3h\\x16h\\x0bsNtq4bh\\x0ch\\rh\\x12\\x85q5Rq6(h\\x12)}q7h\\x16h\\x0csNtq8bubX\\t\\x00\\x00\\x00wildcardsq9csnakemake.io\\nWildcards\\nq:)\\x81q;}q<(h\\x07}q=h\\t]q>(h\\x0bh\\x0ceh\\x0bh\\rh\\x12\\x85q?Rq@(h\\x12)}qAh\\x16h\\x0bsNtqBbh\\x0ch\\rh\\x12\\x85qCRqD(h\\x12)}qEh\\x16h\\x0csNtqFbubX\\x07\\x00\\x00\\x00threadsqGK\\x01X\\t\\x00\\x00\\x00resourcesqHcsnakemake.io\\nResources\\nqI)\\x81qJ(K\\x01K\\x01e}qK(h\\x07}qL(X\\x06\\x00\\x00\\x00_coresqMK\\x00N\\x86qNX\\x06\\x00\\x00\\x00_nodesqOK\\x01N\\x86qPuh\\t]qQ(h\\x0bh\\x0ceh\\x0bh\\rh\\x12\\x85qRRqS(h\\x12)}qTh\\x16h\\x0bsNtqUbh\\x0ch\\rh\\x12\\x85qVRqW(h\\x12)}qXh\\x16h\\x0csNtqYbhMK\\x01hOK\\x01ubX\\x03\\x00\\x00\\x00logqZcsnakemake.io\\nLog\\nq[)\\x81q\\\\}q](h\\x07}q^h\\t]q_(h\\x0bh\\x0ceh\\x0bh\\rh\\x12\\x85q`Rqa(h\\x12)}qbh\\x16h\\x0bsNtqcbh\\x0ch\\rh\\x12\\x85qdRqe(h\\x12)}qfh\\x16h\\x0csNtqgbubX\\x06\\x00\\x00\\x00configqh}qiX\\x04\\x00\\x00\\x00ruleqjX\\n\\x00\\x00\\x00make_modelqkX\\x0f\\x00\\x00\\x00bench_iterationqlNX\\t\\x00\\x00\\x00scriptdirqmX*\\x00\\x00\\x00/Users/jarrettbrunner/Desktop/sim-pipelineqnub.'); from snakemake.logging import logger; logger.printshellcmds = False; import os; os.chdir('/Users/jarrettbrunner/Desktop/sim-pipeline');\n",
    "######## snakemake preamble end #########\n"
   ]
  },
  {
   "cell_type": "code",
   "execution_count": 2,
   "metadata": {
    "collapsed": true
   },
   "outputs": [],
   "source": [
    "'this is where we train our model, but we do not have data right now to train on'\n",
    "with open(snakemake.output[0], 'w') as output:\n",
    "    output.write(\"Success!\")"
   ]
  }
 ],
 "metadata": {
  "kernelspec": {
   "display_name": "Python 3",
   "language": "python",
   "name": "python3"
  },
  "language_info": {
   "codemirror_mode": {
    "name": "ipython",
    "version": 3
   },
   "file_extension": ".py",
   "mimetype": "text/x-python",
   "name": "python",
   "nbconvert_exporter": "python",
   "pygments_lexer": "ipython3",
   "version": "3.6.10"
  }
 },
 "nbformat": 4,
 "nbformat_minor": 2
}
