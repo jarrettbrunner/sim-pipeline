{
 "cells": [
  {
   "cell_type": "code",
   "execution_count": 1,
   "metadata": {
    "tags": [
     "snakemake-job-properties"
    ]
   },
   "outputs": [],
   "source": [
    "\n",
    "######## snakemake preamble start (automatically inserted, do not edit) ########\n",
    "import sys; sys.path.extend(['/Users/jarrettbrunner/miniconda3/lib/python3.6/site-packages', '/Users/jarrettbrunner/Desktop/sim-pipeline']); import pickle; snakemake = pickle.loads(b'\\x80\\x03csnakemake.script\\nSnakemake\\nq\\x00)\\x81q\\x01}q\\x02(X\\x05\\x00\\x00\\x00inputq\\x03csnakemake.io\\nInputFiles\\nq\\x04)\\x81q\\x05(X\\x0f\\x00\\x00\\x00data/script1.pyq\\x06X\\x0f\\x00\\x00\\x00data/script2.pyq\\x07e}q\\x08(X\\x06\\x00\\x00\\x00_namesq\\t}q\\nX\\x12\\x00\\x00\\x00_allowed_overridesq\\x0b]q\\x0c(X\\x05\\x00\\x00\\x00indexq\\rX\\x04\\x00\\x00\\x00sortq\\x0eeh\\rcfunctools\\npartial\\nq\\x0fcbuiltins\\ngetattr\\nq\\x10csnakemake.io\\nNamedlist\\nq\\x11X\\x0f\\x00\\x00\\x00_used_attributeq\\x12\\x86q\\x13Rq\\x14\\x85q\\x15Rq\\x16(h\\x14)}q\\x17X\\x05\\x00\\x00\\x00_nameq\\x18h\\rsNtq\\x19bh\\x0eh\\x0fh\\x14\\x85q\\x1aRq\\x1b(h\\x14)}q\\x1ch\\x18h\\x0esNtq\\x1dbubX\\x06\\x00\\x00\\x00outputq\\x1ecsnakemake.io\\nOutputFiles\\nq\\x1f)\\x81q X\\x08\\x00\\x00\\x00test.txtq!a}q\"(h\\t}q#h\\x0b]q$(h\\rh\\x0eeh\\rh\\x0fh\\x14\\x85q%Rq&(h\\x14)}q\\'h\\x18h\\rsNtq(bh\\x0eh\\x0fh\\x14\\x85q)Rq*(h\\x14)}q+h\\x18h\\x0esNtq,bubX\\x06\\x00\\x00\\x00paramsq-csnakemake.io\\nParams\\nq.)\\x81q/}q0(h\\t}q1h\\x0b]q2(h\\rh\\x0eeh\\rh\\x0fh\\x14\\x85q3Rq4(h\\x14)}q5h\\x18h\\rsNtq6bh\\x0eh\\x0fh\\x14\\x85q7Rq8(h\\x14)}q9h\\x18h\\x0esNtq:bubX\\t\\x00\\x00\\x00wildcardsq;csnakemake.io\\nWildcards\\nq<)\\x81q=}q>(h\\t}q?h\\x0b]q@(h\\rh\\x0eeh\\rh\\x0fh\\x14\\x85qARqB(h\\x14)}qCh\\x18h\\rsNtqDbh\\x0eh\\x0fh\\x14\\x85qERqF(h\\x14)}qGh\\x18h\\x0esNtqHbubX\\x07\\x00\\x00\\x00threadsqIK\\x01X\\t\\x00\\x00\\x00resourcesqJcsnakemake.io\\nResources\\nqK)\\x81qL(K\\x01K\\x01e}qM(h\\t}qN(X\\x06\\x00\\x00\\x00_coresqOK\\x00N\\x86qPX\\x06\\x00\\x00\\x00_nodesqQK\\x01N\\x86qRuh\\x0b]qS(h\\rh\\x0eeh\\rh\\x0fh\\x14\\x85qTRqU(h\\x14)}qVh\\x18h\\rsNtqWbh\\x0eh\\x0fh\\x14\\x85qXRqY(h\\x14)}qZh\\x18h\\x0esNtq[bhOK\\x01hQK\\x01ubX\\x03\\x00\\x00\\x00logq\\\\csnakemake.io\\nLog\\nq])\\x81q^}q_(h\\t}q`h\\x0b]qa(h\\rh\\x0eeh\\rh\\x0fh\\x14\\x85qbRqc(h\\x14)}qdh\\x18h\\rsNtqebh\\x0eh\\x0fh\\x14\\x85qfRqg(h\\x14)}qhh\\x18h\\x0esNtqibubX\\x06\\x00\\x00\\x00configqj}qkX\\x04\\x00\\x00\\x00ruleqlX\\n\\x00\\x00\\x00make_modelqmX\\x0f\\x00\\x00\\x00bench_iterationqnNX\\t\\x00\\x00\\x00scriptdirqoX*\\x00\\x00\\x00/Users/jarrettbrunner/Desktop/sim-pipelineqpub.'); from snakemake.logging import logger; logger.printshellcmds = False; import os; os.chdir('/Users/jarrettbrunner/Desktop/sim-pipeline');\n",
    "######## snakemake preamble end #########\n"
   ]
  },
  {
   "cell_type": "code",
   "execution_count": 2,
   "metadata": {
    "collapsed": true
   },
   "outputs": [],
   "source": [
    "'this is where we train our model, but we do not have data right now to train on'\n",
    "with open(snakemake.output[0], 'w') as output:\n",
    "    output.write(\"Success!\")"
   ]
  }
 ],
 "metadata": {
  "kernelspec": {
   "display_name": "Python 3",
   "language": "python",
   "name": "python3"
  },
  "language_info": {
   "codemirror_mode": {
    "name": "ipython",
    "version": 3
   },
   "file_extension": ".py",
   "mimetype": "text/x-python",
   "name": "python",
   "nbconvert_exporter": "python",
   "pygments_lexer": "ipython3",
   "version": "3.6.10"
  }
 },
 "nbformat": 4,
 "nbformat_minor": 2
}
